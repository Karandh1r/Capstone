{
  "cells": [
    {
      "cell_type": "code",
      "execution_count": 6,
      "metadata": {
        "colab": {
          "base_uri": "https://localhost:8080/"
        },
        "id": "Y6oFVEfBHD70",
        "outputId": "ca9c17d6-492b-44af-ff5d-b21ed2042df5"
      },
      "outputs": [
        {
          "name": "stdout",
          "output_type": "stream",
          "text": [
            "Cloning into 'Capstone'...\n",
            "remote: Enumerating objects: 22053, done.\u001b[K\n",
            "remote: Counting objects: 100% (3/3), done.\u001b[K\n",
            "remote: Compressing objects: 100% (3/3), done.\u001b[K\n",
            "remote: Total 22053 (delta 0), reused 2 (delta 0), pack-reused 22050\u001b[K\n",
            "Receiving objects: 100% (22053/22053), 1006.41 MiB | 43.11 MiB/s, done.\n",
            "Resolving deltas: 100% (13/13), done.\n",
            "Updating files: 100% (22046/22046), done.\n"
          ]
        }
      ],
      "source": [
        "!git clone https://github.com/Karandh1r/Capstone"
      ]
    },
    {
      "cell_type": "code",
      "execution_count": 7,
      "metadata": {
        "id": "7x8Hn5xyHfj-"
      },
      "outputs": [],
      "source": [
        "import numpy as np\n",
        "import pandas as pd\n",
        "import matplotlib.pyplot as plt\n",
        "import seaborn as sns"
      ]
    },
    {
      "cell_type": "code",
      "execution_count": null,
      "metadata": {
        "colab": {
          "base_uri": "https://localhost:8080/",
          "height": 537
        },
        "id": "RTQlNMeYbSss",
        "outputId": "1630f5dc-15e8-4a63-a97f-4a1f0a2703f1"
      },
      "outputs": [
        {
          "name": "stdout",
          "output_type": "stream",
          "text": [
            "Looking in indexes: https://pypi.org/simple, https://us-python.pkg.dev/colab-wheels/public/simple/\n",
            "Requirement already satisfied: matplotlib in /usr/local/lib/python3.8/dist-packages (3.5.3)\n",
            "Collecting matplotlib\n",
            "  Downloading matplotlib-3.7.0-cp38-cp38-manylinux_2_12_x86_64.manylinux2010_x86_64.whl (9.2 MB)\n",
            "\u001b[2K     \u001b[90m━━━━━━━━━━━━━━━━━━━━━━━━━━━━━━━━━━━━━━━━\u001b[0m \u001b[32m9.2/9.2 MB\u001b[0m \u001b[31m34.8 MB/s\u001b[0m eta \u001b[36m0:00:00\u001b[0m\n",
            "\u001b[?25hRequirement already satisfied: pillow>=6.2.0 in /usr/local/lib/python3.8/dist-packages (from matplotlib) (7.1.2)\n",
            "Requirement already satisfied: kiwisolver>=1.0.1 in /usr/local/lib/python3.8/dist-packages (from matplotlib) (1.4.4)\n",
            "Requirement already satisfied: pyparsing>=2.3.1 in /usr/local/lib/python3.8/dist-packages (from matplotlib) (3.0.9)\n",
            "Requirement already satisfied: numpy>=1.20 in /usr/local/lib/python3.8/dist-packages (from matplotlib) (1.22.4)\n",
            "Requirement already satisfied: importlib-resources>=3.2.0 in /usr/local/lib/python3.8/dist-packages (from matplotlib) (5.12.0)\n",
            "Requirement already satisfied: packaging>=20.0 in /usr/local/lib/python3.8/dist-packages (from matplotlib) (23.0)\n",
            "Collecting contourpy>=1.0.1\n",
            "  Downloading contourpy-1.0.7-cp38-cp38-manylinux_2_17_x86_64.manylinux2014_x86_64.whl (300 kB)\n",
            "\u001b[2K     \u001b[90m━━━━━━━━━━━━━━━━━━━━━━━━━━━━━━━━━━━━━━\u001b[0m \u001b[32m300.0/300.0 KB\u001b[0m \u001b[31m20.6 MB/s\u001b[0m eta \u001b[36m0:00:00\u001b[0m\n",
            "\u001b[?25hRequirement already satisfied: fonttools>=4.22.0 in /usr/local/lib/python3.8/dist-packages (from matplotlib) (4.38.0)\n",
            "Requirement already satisfied: cycler>=0.10 in /usr/local/lib/python3.8/dist-packages (from matplotlib) (0.11.0)\n",
            "Requirement already satisfied: python-dateutil>=2.7 in /usr/local/lib/python3.8/dist-packages (from matplotlib) (2.8.2)\n",
            "Requirement already satisfied: zipp>=3.1.0 in /usr/local/lib/python3.8/dist-packages (from importlib-resources>=3.2.0->matplotlib) (3.14.0)\n",
            "Requirement already satisfied: six>=1.5 in /usr/local/lib/python3.8/dist-packages (from python-dateutil>=2.7->matplotlib) (1.15.0)\n",
            "Installing collected packages: contourpy, matplotlib\n",
            "  Attempting uninstall: matplotlib\n",
            "    Found existing installation: matplotlib 3.5.3\n",
            "    Uninstalling matplotlib-3.5.3:\n",
            "      Successfully uninstalled matplotlib-3.5.3\n",
            "Successfully installed contourpy-1.0.7 matplotlib-3.7.0\n"
          ]
        },
        {
          "data": {
            "application/vnd.colab-display-data+json": {
              "pip_warning": {
                "packages": [
                  "matplotlib",
                  "mpl_toolkits"
                ]
              }
            }
          },
          "metadata": {},
          "output_type": "display_data"
        }
      ],
      "source": [
        "#pip install matplotlib --upgrade"
      ]
    },
    {
      "cell_type": "code",
      "execution_count": 8,
      "metadata": {
        "id": "ZmapfT1pI2hC"
      },
      "outputs": [],
      "source": [
        "coughvid_df = pd.read_csv('/content/Capstone/virufy-cdf-coughvid/virufy-cdf-coughvid.csv')"
      ]
    },
    {
      "cell_type": "code",
      "execution_count": null,
      "metadata": {
        "colab": {
          "base_uri": "https://localhost:8080/",
          "height": 548
        },
        "id": "VrUFEHb_JAEt",
        "outputId": "3a2508c4-7f27-48c3-c9a3-f8998c02dd0c"
      },
      "outputs": [
        {
          "data": {
            "text/html": [
              "\n",
              "  <div id=\"df-e7ce9d75-37e1-437b-a94a-14358c259147\">\n",
              "    <div class=\"colab-df-container\">\n",
              "      <div>\n",
              "<style scoped>\n",
              "    .dataframe tbody tr th:only-of-type {\n",
              "        vertical-align: middle;\n",
              "    }\n",
              "\n",
              "    .dataframe tbody tr th {\n",
              "        vertical-align: top;\n",
              "    }\n",
              "\n",
              "    .dataframe thead th {\n",
              "        text-align: right;\n",
              "    }\n",
              "</style>\n",
              "<table border=\"1\" class=\"dataframe\">\n",
              "  <thead>\n",
              "    <tr style=\"text-align: right;\">\n",
              "      <th></th>\n",
              "      <th>Unnamed: 0</th>\n",
              "      <th>source</th>\n",
              "      <th>patient_id</th>\n",
              "      <th>cough_detected</th>\n",
              "      <th>cough_path</th>\n",
              "      <th>age</th>\n",
              "      <th>biological_sex</th>\n",
              "      <th>reported_gender</th>\n",
              "      <th>submission_date</th>\n",
              "      <th>pcr_test_date</th>\n",
              "      <th>pcr_result_date</th>\n",
              "      <th>respiratory_condition</th>\n",
              "      <th>fever_or_muscle_pain</th>\n",
              "      <th>pcr_test_result</th>\n",
              "      <th>pcr_test_result_inferred</th>\n",
              "      <th>covid_symptoms</th>\n",
              "    </tr>\n",
              "  </thead>\n",
              "  <tbody>\n",
              "    <tr>\n",
              "      <th>0</th>\n",
              "      <td>0</td>\n",
              "      <td>coughvid</td>\n",
              "      <td>ae029647-ddc3-47f5-904e-813358c9dda3</td>\n",
              "      <td>0.8929</td>\n",
              "      <td>virufy-cdf-coughvid/ae029647-ddc3-47f5-904e-81...</td>\n",
              "      <td>NaN</td>\n",
              "      <td>NaN</td>\n",
              "      <td>NaN</td>\n",
              "      <td>2020-10-20T11:05:04.501905+00:00</td>\n",
              "      <td>NaN</td>\n",
              "      <td>NaN</td>\n",
              "      <td>NaN</td>\n",
              "      <td>NaN</td>\n",
              "      <td>untested</td>\n",
              "      <td>untested</td>\n",
              "      <td>NaN</td>\n",
              "    </tr>\n",
              "    <tr>\n",
              "      <th>1</th>\n",
              "      <td>1</td>\n",
              "      <td>coughvid</td>\n",
              "      <td>cac4a470-bb86-4db9-9453-d4e2706c3931</td>\n",
              "      <td>0.1431</td>\n",
              "      <td>virufy-cdf-coughvid/cac4a470-bb86-4db9-9453-d4...</td>\n",
              "      <td>NaN</td>\n",
              "      <td>NaN</td>\n",
              "      <td>NaN</td>\n",
              "      <td>2020-04-17T15:12:14.379396+00:00</td>\n",
              "      <td>NaN</td>\n",
              "      <td>NaN</td>\n",
              "      <td>NaN</td>\n",
              "      <td>NaN</td>\n",
              "      <td>untested</td>\n",
              "      <td>untested</td>\n",
              "      <td>NaN</td>\n",
              "    </tr>\n",
              "    <tr>\n",
              "      <th>2</th>\n",
              "      <td>2</td>\n",
              "      <td>coughvid</td>\n",
              "      <td>2a3d201f-7c70-449c-adc5-50de728fccd0</td>\n",
              "      <td>0.0803</td>\n",
              "      <td>virufy-cdf-coughvid/2a3d201f-7c70-449c-adc5-50...</td>\n",
              "      <td>38.0</td>\n",
              "      <td>male</td>\n",
              "      <td>male</td>\n",
              "      <td>2020-04-09T20:56:01.725275+00:00</td>\n",
              "      <td>NaN</td>\n",
              "      <td>NaN</td>\n",
              "      <td>False</td>\n",
              "      <td>False</td>\n",
              "      <td>untested</td>\n",
              "      <td>negative</td>\n",
              "      <td>False</td>\n",
              "    </tr>\n",
              "    <tr>\n",
              "      <th>3</th>\n",
              "      <td>3</td>\n",
              "      <td>coughvid</td>\n",
              "      <td>8b267d78-97f0-4530-bbfa-e938724376f4</td>\n",
              "      <td>0.1247</td>\n",
              "      <td>virufy-cdf-coughvid/8b267d78-97f0-4530-bbfa-e9...</td>\n",
              "      <td>NaN</td>\n",
              "      <td>NaN</td>\n",
              "      <td>NaN</td>\n",
              "      <td>2020-04-11T11:12:19.213465+00:00</td>\n",
              "      <td>NaN</td>\n",
              "      <td>NaN</td>\n",
              "      <td>NaN</td>\n",
              "      <td>NaN</td>\n",
              "      <td>untested</td>\n",
              "      <td>untested</td>\n",
              "      <td>NaN</td>\n",
              "    </tr>\n",
              "    <tr>\n",
              "      <th>4</th>\n",
              "      <td>4</td>\n",
              "      <td>coughvid</td>\n",
              "      <td>68d5215b-afdb-4b7a-81d3-fbd5677de7b4</td>\n",
              "      <td>1.0000</td>\n",
              "      <td>virufy-cdf-coughvid/68d5215b-afdb-4b7a-81d3-fb...</td>\n",
              "      <td>46.0</td>\n",
              "      <td>male</td>\n",
              "      <td>male</td>\n",
              "      <td>2020-11-26T16:21:47.764016+00:00</td>\n",
              "      <td>NaN</td>\n",
              "      <td>NaN</td>\n",
              "      <td>False</td>\n",
              "      <td>False</td>\n",
              "      <td>untested</td>\n",
              "      <td>negative</td>\n",
              "      <td>False</td>\n",
              "    </tr>\n",
              "  </tbody>\n",
              "</table>\n",
              "</div>\n",
              "      <button class=\"colab-df-convert\" onclick=\"convertToInteractive('df-e7ce9d75-37e1-437b-a94a-14358c259147')\"\n",
              "              title=\"Convert this dataframe to an interactive table.\"\n",
              "              style=\"display:none;\">\n",
              "        \n",
              "  <svg xmlns=\"http://www.w3.org/2000/svg\" height=\"24px\"viewBox=\"0 0 24 24\"\n",
              "       width=\"24px\">\n",
              "    <path d=\"M0 0h24v24H0V0z\" fill=\"none\"/>\n",
              "    <path d=\"M18.56 5.44l.94 2.06.94-2.06 2.06-.94-2.06-.94-.94-2.06-.94 2.06-2.06.94zm-11 1L8.5 8.5l.94-2.06 2.06-.94-2.06-.94L8.5 2.5l-.94 2.06-2.06.94zm10 10l.94 2.06.94-2.06 2.06-.94-2.06-.94-.94-2.06-.94 2.06-2.06.94z\"/><path d=\"M17.41 7.96l-1.37-1.37c-.4-.4-.92-.59-1.43-.59-.52 0-1.04.2-1.43.59L10.3 9.45l-7.72 7.72c-.78.78-.78 2.05 0 2.83L4 21.41c.39.39.9.59 1.41.59.51 0 1.02-.2 1.41-.59l7.78-7.78 2.81-2.81c.8-.78.8-2.07 0-2.86zM5.41 20L4 18.59l7.72-7.72 1.47 1.35L5.41 20z\"/>\n",
              "  </svg>\n",
              "      </button>\n",
              "      \n",
              "  <style>\n",
              "    .colab-df-container {\n",
              "      display:flex;\n",
              "      flex-wrap:wrap;\n",
              "      gap: 12px;\n",
              "    }\n",
              "\n",
              "    .colab-df-convert {\n",
              "      background-color: #E8F0FE;\n",
              "      border: none;\n",
              "      border-radius: 50%;\n",
              "      cursor: pointer;\n",
              "      display: none;\n",
              "      fill: #1967D2;\n",
              "      height: 32px;\n",
              "      padding: 0 0 0 0;\n",
              "      width: 32px;\n",
              "    }\n",
              "\n",
              "    .colab-df-convert:hover {\n",
              "      background-color: #E2EBFA;\n",
              "      box-shadow: 0px 1px 2px rgba(60, 64, 67, 0.3), 0px 1px 3px 1px rgba(60, 64, 67, 0.15);\n",
              "      fill: #174EA6;\n",
              "    }\n",
              "\n",
              "    [theme=dark] .colab-df-convert {\n",
              "      background-color: #3B4455;\n",
              "      fill: #D2E3FC;\n",
              "    }\n",
              "\n",
              "    [theme=dark] .colab-df-convert:hover {\n",
              "      background-color: #434B5C;\n",
              "      box-shadow: 0px 1px 3px 1px rgba(0, 0, 0, 0.15);\n",
              "      filter: drop-shadow(0px 1px 2px rgba(0, 0, 0, 0.3));\n",
              "      fill: #FFFFFF;\n",
              "    }\n",
              "  </style>\n",
              "\n",
              "      <script>\n",
              "        const buttonEl =\n",
              "          document.querySelector('#df-e7ce9d75-37e1-437b-a94a-14358c259147 button.colab-df-convert');\n",
              "        buttonEl.style.display =\n",
              "          google.colab.kernel.accessAllowed ? 'block' : 'none';\n",
              "\n",
              "        async function convertToInteractive(key) {\n",
              "          const element = document.querySelector('#df-e7ce9d75-37e1-437b-a94a-14358c259147');\n",
              "          const dataTable =\n",
              "            await google.colab.kernel.invokeFunction('convertToInteractive',\n",
              "                                                     [key], {});\n",
              "          if (!dataTable) return;\n",
              "\n",
              "          const docLinkHtml = 'Like what you see? Visit the ' +\n",
              "            '<a target=\"_blank\" href=https://colab.research.google.com/notebooks/data_table.ipynb>data table notebook</a>'\n",
              "            + ' to learn more about interactive tables.';\n",
              "          element.innerHTML = '';\n",
              "          dataTable['output_type'] = 'display_data';\n",
              "          await google.colab.output.renderOutput(dataTable, element);\n",
              "          const docLink = document.createElement('div');\n",
              "          docLink.innerHTML = docLinkHtml;\n",
              "          element.appendChild(docLink);\n",
              "        }\n",
              "      </script>\n",
              "    </div>\n",
              "  </div>\n",
              "  "
            ],
            "text/plain": [
              "   Unnamed: 0    source                            patient_id  cough_detected  \\\n",
              "0           0  coughvid  ae029647-ddc3-47f5-904e-813358c9dda3          0.8929   \n",
              "1           1  coughvid  cac4a470-bb86-4db9-9453-d4e2706c3931          0.1431   \n",
              "2           2  coughvid  2a3d201f-7c70-449c-adc5-50de728fccd0          0.0803   \n",
              "3           3  coughvid  8b267d78-97f0-4530-bbfa-e938724376f4          0.1247   \n",
              "4           4  coughvid  68d5215b-afdb-4b7a-81d3-fbd5677de7b4          1.0000   \n",
              "\n",
              "                                          cough_path   age biological_sex  \\\n",
              "0  virufy-cdf-coughvid/ae029647-ddc3-47f5-904e-81...   NaN            NaN   \n",
              "1  virufy-cdf-coughvid/cac4a470-bb86-4db9-9453-d4...   NaN            NaN   \n",
              "2  virufy-cdf-coughvid/2a3d201f-7c70-449c-adc5-50...  38.0           male   \n",
              "3  virufy-cdf-coughvid/8b267d78-97f0-4530-bbfa-e9...   NaN            NaN   \n",
              "4  virufy-cdf-coughvid/68d5215b-afdb-4b7a-81d3-fb...  46.0           male   \n",
              "\n",
              "  reported_gender                   submission_date  pcr_test_date  \\\n",
              "0             NaN  2020-10-20T11:05:04.501905+00:00            NaN   \n",
              "1             NaN  2020-04-17T15:12:14.379396+00:00            NaN   \n",
              "2            male  2020-04-09T20:56:01.725275+00:00            NaN   \n",
              "3             NaN  2020-04-11T11:12:19.213465+00:00            NaN   \n",
              "4            male  2020-11-26T16:21:47.764016+00:00            NaN   \n",
              "\n",
              "   pcr_result_date respiratory_condition fever_or_muscle_pain pcr_test_result  \\\n",
              "0              NaN                   NaN                  NaN        untested   \n",
              "1              NaN                   NaN                  NaN        untested   \n",
              "2              NaN                 False                False        untested   \n",
              "3              NaN                   NaN                  NaN        untested   \n",
              "4              NaN                 False                False        untested   \n",
              "\n",
              "  pcr_test_result_inferred covid_symptoms  \n",
              "0                 untested            NaN  \n",
              "1                 untested            NaN  \n",
              "2                 negative          False  \n",
              "3                 untested            NaN  \n",
              "4                 negative          False  "
            ]
          },
          "execution_count": 31,
          "metadata": {},
          "output_type": "execute_result"
        }
      ],
      "source": [
        "coughvid_df.head()"
      ]
    },
    {
      "cell_type": "code",
      "execution_count": 9,
      "metadata": {
        "id": "em60Dd1qJays"
      },
      "outputs": [],
      "source": [
        "def display_missing_values(df):\n",
        "  return df.isna().sum()"
      ]
    },
    {
      "cell_type": "code",
      "execution_count": 10,
      "metadata": {
        "colab": {
          "base_uri": "https://localhost:8080/"
        },
        "id": "t3eErVcsOU3k",
        "outputId": "e8ce732d-2ec5-4415-f697-87a966af4784"
      },
      "outputs": [
        {
          "data": {
            "text/plain": [
              "Unnamed: 0                      0\n",
              "source                          0\n",
              "patient_id                      0\n",
              "cough_detected                  0\n",
              "cough_path                      0\n",
              "age                          9903\n",
              "biological_sex               9084\n",
              "reported_gender              9084\n",
              "submission_date                 0\n",
              "pcr_test_date               22040\n",
              "pcr_result_date             22040\n",
              "respiratory_condition        9084\n",
              "fever_or_muscle_pain         9084\n",
              "pcr_test_result                 0\n",
              "pcr_test_result_inferred        0\n",
              "covid_symptoms              10008\n",
              "dtype: int64"
            ]
          },
          "execution_count": 10,
          "metadata": {},
          "output_type": "execute_result"
        }
      ],
      "source": [
        "display_missing_values(coughvid_df)"
      ]
    },
    {
      "cell_type": "code",
      "execution_count": 11,
      "metadata": {
        "id": "hss-lcwwKWCE"
      },
      "outputs": [],
      "source": [
        "def drop_columns(df,list):\n",
        "  df = df.drop(columns = list, axis=1,inplace=True)"
      ]
    },
    {
      "cell_type": "code",
      "execution_count": 12,
      "metadata": {
        "id": "ExYIXfX7Oa_J"
      },
      "outputs": [],
      "source": [
        "drop_columns(coughvid_df,['Unnamed: 0','source','biological_sex','submission_date','pcr_test_date','pcr_result_date'])"
      ]
    },
    {
      "cell_type": "code",
      "execution_count": 13,
      "metadata": {
        "id": "Jb5iILiDJFuW"
      },
      "outputs": [],
      "source": [
        "def basic_stats(df):\n",
        "  print(df.info())\n",
        "  print(df.describe())"
      ]
    },
    {
      "cell_type": "code",
      "execution_count": 14,
      "metadata": {
        "colab": {
          "base_uri": "https://localhost:8080/"
        },
        "id": "TqgKj2E_PAaS",
        "outputId": "791d1d09-6332-4312-be13-74bf429a31fa"
      },
      "outputs": [
        {
          "name": "stdout",
          "output_type": "stream",
          "text": [
            "<class 'pandas.core.frame.DataFrame'>\n",
            "RangeIndex: 22040 entries, 0 to 22039\n",
            "Data columns (total 10 columns):\n",
            " #   Column                    Non-Null Count  Dtype  \n",
            "---  ------                    --------------  -----  \n",
            " 0   patient_id                22040 non-null  object \n",
            " 1   cough_detected            22040 non-null  float64\n",
            " 2   cough_path                22040 non-null  object \n",
            " 3   age                       12137 non-null  float64\n",
            " 4   reported_gender           12956 non-null  object \n",
            " 5   respiratory_condition     12956 non-null  object \n",
            " 6   fever_or_muscle_pain      12956 non-null  object \n",
            " 7   pcr_test_result           22040 non-null  object \n",
            " 8   pcr_test_result_inferred  22040 non-null  object \n",
            " 9   covid_symptoms            12032 non-null  object \n",
            "dtypes: float64(2), object(8)\n",
            "memory usage: 1.7+ MB\n",
            "None\n",
            "       cough_detected           age\n",
            "count    22040.000000  12137.000000\n",
            "mean         0.649919     36.724289\n",
            "std          0.387780     14.587690\n",
            "min          0.000000      1.000000\n",
            "25%          0.209400     26.000000\n",
            "50%          0.873500     35.000000\n",
            "75%          0.986100     46.000000\n",
            "max          1.000000    102.000000\n"
          ]
        }
      ],
      "source": [
        "basic_stats(coughvid_df)"
      ]
    },
    {
      "cell_type": "code",
      "execution_count": 15,
      "metadata": {
        "id": "Y-jzbNsjLfV5"
      },
      "outputs": [],
      "source": [
        "def missing_values_percentage(df,column):\n",
        "  return (df[column].isna().sum())/len(df)*100"
      ]
    },
    {
      "cell_type": "code",
      "execution_count": 16,
      "metadata": {
        "colab": {
          "base_uri": "https://localhost:8080/"
        },
        "id": "LsXfYkUPLiwG",
        "outputId": "bdc3c2da-fe20-436f-d8ed-054b7adb32a0"
      },
      "outputs": [
        {
          "data": {
            "text/plain": [
              "44.93194192377496"
            ]
          },
          "execution_count": 16,
          "metadata": {},
          "output_type": "execute_result"
        }
      ],
      "source": [
        "missing_values_percentage(coughvid_df,'age')"
      ]
    },
    {
      "cell_type": "code",
      "execution_count": 17,
      "metadata": {
        "colab": {
          "base_uri": "https://localhost:8080/"
        },
        "id": "ALDTIuC5M4PP",
        "outputId": "400780e2-5182-4aad-ec22-04c5ff3554a2"
      },
      "outputs": [
        {
          "data": {
            "text/plain": [
              "41.21597096188748"
            ]
          },
          "execution_count": 17,
          "metadata": {},
          "output_type": "execute_result"
        }
      ],
      "source": [
        "missing_values_percentage(coughvid_df,'reported_gender')"
      ]
    },
    {
      "cell_type": "code",
      "execution_count": 18,
      "metadata": {
        "colab": {
          "base_uri": "https://localhost:8080/"
        },
        "id": "Wa0ajLD6PQgD",
        "outputId": "b7c82e0b-d398-4081-91da-a3a6154e3a5c"
      },
      "outputs": [
        {
          "data": {
            "text/plain": [
              "45.40834845735027"
            ]
          },
          "execution_count": 18,
          "metadata": {},
          "output_type": "execute_result"
        }
      ],
      "source": [
        "missing_values_percentage(coughvid_df,'covid_symptoms')"
      ]
    },
    {
      "cell_type": "code",
      "execution_count": 19,
      "metadata": {
        "id": "0Ase5G0DPdMb"
      },
      "outputs": [],
      "source": [
        "def remove_na_rows(df,column):\n",
        "  ls = []\n",
        "  ls = df[df[column].isna()].index\n",
        "  df = df.drop(labels=ls, axis=0, inplace = True)"
      ]
    },
    {
      "cell_type": "code",
      "execution_count": 20,
      "metadata": {
        "id": "Gl3hT29HSX1h"
      },
      "outputs": [],
      "source": [
        "remove_na_rows(coughvid_df,'age')"
      ]
    },
    {
      "cell_type": "code",
      "execution_count": 21,
      "metadata": {
        "id": "4ZrexBmt0yaW"
      },
      "outputs": [],
      "source": [
        "coughvid_df = coughvid_df[coughvid_df['pcr_test_result_inferred']!='untested']"
      ]
    },
    {
      "cell_type": "code",
      "execution_count": 22,
      "metadata": {
        "colab": {
          "base_uri": "https://localhost:8080/",
          "height": 111
        },
        "id": "mVHQQEj5TP4j",
        "outputId": "9e0c8835-0c51-4a95-b502-56f49aab723c"
      },
      "outputs": [
        {
          "data": {
            "text/html": [
              "\n",
              "  <div id=\"df-fa4bc706-97cf-4177-b79d-4008554f4aa7\">\n",
              "    <div class=\"colab-df-container\">\n",
              "      <div>\n",
              "<style scoped>\n",
              "    .dataframe tbody tr th:only-of-type {\n",
              "        vertical-align: middle;\n",
              "    }\n",
              "\n",
              "    .dataframe tbody tr th {\n",
              "        vertical-align: top;\n",
              "    }\n",
              "\n",
              "    .dataframe thead th {\n",
              "        text-align: right;\n",
              "    }\n",
              "</style>\n",
              "<table border=\"1\" class=\"dataframe\">\n",
              "  <thead>\n",
              "    <tr style=\"text-align: right;\">\n",
              "      <th></th>\n",
              "      <th>pcr_test_result_inferred</th>\n",
              "      <th>cough_detected</th>\n",
              "    </tr>\n",
              "  </thead>\n",
              "  <tbody>\n",
              "    <tr>\n",
              "      <th>0</th>\n",
              "      <td>negative</td>\n",
              "      <td>0.763053</td>\n",
              "    </tr>\n",
              "    <tr>\n",
              "      <th>1</th>\n",
              "      <td>positive</td>\n",
              "      <td>0.723661</td>\n",
              "    </tr>\n",
              "  </tbody>\n",
              "</table>\n",
              "</div>\n",
              "      <button class=\"colab-df-convert\" onclick=\"convertToInteractive('df-fa4bc706-97cf-4177-b79d-4008554f4aa7')\"\n",
              "              title=\"Convert this dataframe to an interactive table.\"\n",
              "              style=\"display:none;\">\n",
              "        \n",
              "  <svg xmlns=\"http://www.w3.org/2000/svg\" height=\"24px\"viewBox=\"0 0 24 24\"\n",
              "       width=\"24px\">\n",
              "    <path d=\"M0 0h24v24H0V0z\" fill=\"none\"/>\n",
              "    <path d=\"M18.56 5.44l.94 2.06.94-2.06 2.06-.94-2.06-.94-.94-2.06-.94 2.06-2.06.94zm-11 1L8.5 8.5l.94-2.06 2.06-.94-2.06-.94L8.5 2.5l-.94 2.06-2.06.94zm10 10l.94 2.06.94-2.06 2.06-.94-2.06-.94-.94-2.06-.94 2.06-2.06.94z\"/><path d=\"M17.41 7.96l-1.37-1.37c-.4-.4-.92-.59-1.43-.59-.52 0-1.04.2-1.43.59L10.3 9.45l-7.72 7.72c-.78.78-.78 2.05 0 2.83L4 21.41c.39.39.9.59 1.41.59.51 0 1.02-.2 1.41-.59l7.78-7.78 2.81-2.81c.8-.78.8-2.07 0-2.86zM5.41 20L4 18.59l7.72-7.72 1.47 1.35L5.41 20z\"/>\n",
              "  </svg>\n",
              "      </button>\n",
              "      \n",
              "  <style>\n",
              "    .colab-df-container {\n",
              "      display:flex;\n",
              "      flex-wrap:wrap;\n",
              "      gap: 12px;\n",
              "    }\n",
              "\n",
              "    .colab-df-convert {\n",
              "      background-color: #E8F0FE;\n",
              "      border: none;\n",
              "      border-radius: 50%;\n",
              "      cursor: pointer;\n",
              "      display: none;\n",
              "      fill: #1967D2;\n",
              "      height: 32px;\n",
              "      padding: 0 0 0 0;\n",
              "      width: 32px;\n",
              "    }\n",
              "\n",
              "    .colab-df-convert:hover {\n",
              "      background-color: #E2EBFA;\n",
              "      box-shadow: 0px 1px 2px rgba(60, 64, 67, 0.3), 0px 1px 3px 1px rgba(60, 64, 67, 0.15);\n",
              "      fill: #174EA6;\n",
              "    }\n",
              "\n",
              "    [theme=dark] .colab-df-convert {\n",
              "      background-color: #3B4455;\n",
              "      fill: #D2E3FC;\n",
              "    }\n",
              "\n",
              "    [theme=dark] .colab-df-convert:hover {\n",
              "      background-color: #434B5C;\n",
              "      box-shadow: 0px 1px 3px 1px rgba(0, 0, 0, 0.15);\n",
              "      filter: drop-shadow(0px 1px 2px rgba(0, 0, 0, 0.3));\n",
              "      fill: #FFFFFF;\n",
              "    }\n",
              "  </style>\n",
              "\n",
              "      <script>\n",
              "        const buttonEl =\n",
              "          document.querySelector('#df-fa4bc706-97cf-4177-b79d-4008554f4aa7 button.colab-df-convert');\n",
              "        buttonEl.style.display =\n",
              "          google.colab.kernel.accessAllowed ? 'block' : 'none';\n",
              "\n",
              "        async function convertToInteractive(key) {\n",
              "          const element = document.querySelector('#df-fa4bc706-97cf-4177-b79d-4008554f4aa7');\n",
              "          const dataTable =\n",
              "            await google.colab.kernel.invokeFunction('convertToInteractive',\n",
              "                                                     [key], {});\n",
              "          if (!dataTable) return;\n",
              "\n",
              "          const docLinkHtml = 'Like what you see? Visit the ' +\n",
              "            '<a target=\"_blank\" href=https://colab.research.google.com/notebooks/data_table.ipynb>data table notebook</a>'\n",
              "            + ' to learn more about interactive tables.';\n",
              "          element.innerHTML = '';\n",
              "          dataTable['output_type'] = 'display_data';\n",
              "          await google.colab.output.renderOutput(dataTable, element);\n",
              "          const docLink = document.createElement('div');\n",
              "          docLink.innerHTML = docLinkHtml;\n",
              "          element.appendChild(docLink);\n",
              "        }\n",
              "      </script>\n",
              "    </div>\n",
              "  </div>\n",
              "  "
            ],
            "text/plain": [
              "  pcr_test_result_inferred  cough_detected\n",
              "0                 negative        0.763053\n",
              "1                 positive        0.723661"
            ]
          },
          "execution_count": 22,
          "metadata": {},
          "output_type": "execute_result"
        }
      ],
      "source": [
        "pcr_cough = coughvid_df.groupby(['pcr_test_result_inferred'])['cough_detected'].mean().reset_index()\n",
        "pcr_cough"
      ]
    },
    {
      "cell_type": "code",
      "execution_count": 23,
      "metadata": {
        "colab": {
          "base_uri": "https://localhost:8080/",
          "height": 409
        },
        "id": "mR13PR3PZuvy",
        "outputId": "91912f2d-6dea-4d9a-fe56-b813cdc02e83"
      },
      "outputs": [
        {
          "data": {
            "text/plain": [
              "[Text(0, 0, '0.763053'), Text(0, 0, '0.723661')]"
            ]
          },
          "execution_count": 23,
          "metadata": {},
          "output_type": "execute_result"
        },
        {
          "data": {
            "image/png": "[encoded data removed]",
            "text/plain": [
              "<Figure size 576x432 with 1 Axes>"
            ]
          },
          "metadata": {
            "needs_background": "light"
          },
          "output_type": "display_data"
        }
      ],
      "source": [
        "plt.figure(figsize=(8,6))\n",
        "fig1 = sns.barplot(data=pcr_cough, x = 'pcr_test_result_inferred', y = 'cough_detected')\n",
        "fig1.bar_label(fig1.containers[0])"
      ]
    },
    {
      "cell_type": "code",
      "execution_count": 24,
      "metadata": {
        "colab": {
          "base_uri": "https://localhost:8080/",
          "height": 142
        },
        "id": "tp3Yg0EMTgAi",
        "outputId": "6be15bcc-3ae3-4a19-8498-35b561e1c4b9"
      },
      "outputs": [
        {
          "data": {
            "text/html": [
              "\n",
              "  <div id=\"df-ee21289e-c7f1-4d0d-ace5-2b8540fe88b2\">\n",
              "    <div class=\"colab-df-container\">\n",
              "      <div>\n",
              "<style scoped>\n",
              "    .dataframe tbody tr th:only-of-type {\n",
              "        vertical-align: middle;\n",
              "    }\n",
              "\n",
              "    .dataframe tbody tr th {\n",
              "        vertical-align: top;\n",
              "    }\n",
              "\n",
              "    .dataframe thead th {\n",
              "        text-align: right;\n",
              "    }\n",
              "</style>\n",
              "<table border=\"1\" class=\"dataframe\">\n",
              "  <thead>\n",
              "    <tr style=\"text-align: right;\">\n",
              "      <th></th>\n",
              "      <th>reported_gender</th>\n",
              "      <th>cough_detected</th>\n",
              "    </tr>\n",
              "  </thead>\n",
              "  <tbody>\n",
              "    <tr>\n",
              "      <th>0</th>\n",
              "      <td>female</td>\n",
              "      <td>0.734176</td>\n",
              "    </tr>\n",
              "    <tr>\n",
              "      <th>1</th>\n",
              "      <td>male</td>\n",
              "      <td>0.772933</td>\n",
              "    </tr>\n",
              "    <tr>\n",
              "      <th>2</th>\n",
              "      <td>other</td>\n",
              "      <td>0.610502</td>\n",
              "    </tr>\n",
              "  </tbody>\n",
              "</table>\n",
              "</div>\n",
              "      <button class=\"colab-df-convert\" onclick=\"convertToInteractive('df-ee21289e-c7f1-4d0d-ace5-2b8540fe88b2')\"\n",
              "              title=\"Convert this dataframe to an interactive table.\"\n",
              "              style=\"display:none;\">\n",
              "        \n",
              "  <svg xmlns=\"http://www.w3.org/2000/svg\" height=\"24px\"viewBox=\"0 0 24 24\"\n",
              "       width=\"24px\">\n",
              "    <path d=\"M0 0h24v24H0V0z\" fill=\"none\"/>\n",
              "    <path d=\"M18.56 5.44l.94 2.06.94-2.06 2.06-.94-2.06-.94-.94-2.06-.94 2.06-2.06.94zm-11 1L8.5 8.5l.94-2.06 2.06-.94-2.06-.94L8.5 2.5l-.94 2.06-2.06.94zm10 10l.94 2.06.94-2.06 2.06-.94-2.06-.94-.94-2.06-.94 2.06-2.06.94z\"/><path d=\"M17.41 7.96l-1.37-1.37c-.4-.4-.92-.59-1.43-.59-.52 0-1.04.2-1.43.59L10.3 9.45l-7.72 7.72c-.78.78-.78 2.05 0 2.83L4 21.41c.39.39.9.59 1.41.59.51 0 1.02-.2 1.41-.59l7.78-7.78 2.81-2.81c.8-.78.8-2.07 0-2.86zM5.41 20L4 18.59l7.72-7.72 1.47 1.35L5.41 20z\"/>\n",
              "  </svg>\n",
              "      </button>\n",
              "      \n",
              "  <style>\n",
              "    .colab-df-container {\n",
              "      display:flex;\n",
              "      flex-wrap:wrap;\n",
              "      gap: 12px;\n",
              "    }\n",
              "\n",
              "    .colab-df-convert {\n",
              "      background-color: #E8F0FE;\n",
              "      border: none;\n",
              "      border-radius: 50%;\n",
              "      cursor: pointer;\n",
              "      display: none;\n",
              "      fill: #1967D2;\n",
              "      height: 32px;\n",
              "      padding: 0 0 0 0;\n",
              "      width: 32px;\n",
              "    }\n",
              "\n",
              "    .colab-df-convert:hover {\n",
              "      background-color: #E2EBFA;\n",
              "      box-shadow: 0px 1px 2px rgba(60, 64, 67, 0.3), 0px 1px 3px 1px rgba(60, 64, 67, 0.15);\n",
              "      fill: #174EA6;\n",
              "    }\n",
              "\n",
              "    [theme=dark] .colab-df-convert {\n",
              "      background-color: #3B4455;\n",
              "      fill: #D2E3FC;\n",
              "    }\n",
              "\n",
              "    [theme=dark] .colab-df-convert:hover {\n",
              "      background-color: #434B5C;\n",
              "      box-shadow: 0px 1px 3px 1px rgba(0, 0, 0, 0.15);\n",
              "      filter: drop-shadow(0px 1px 2px rgba(0, 0, 0, 0.3));\n",
              "      fill: #FFFFFF;\n",
              "    }\n",
              "  </style>\n",
              "\n",
              "      <script>\n",
              "        const buttonEl =\n",
              "          document.querySelector('#df-ee21289e-c7f1-4d0d-ace5-2b8540fe88b2 button.colab-df-convert');\n",
              "        buttonEl.style.display =\n",
              "          google.colab.kernel.accessAllowed ? 'block' : 'none';\n",
              "\n",
              "        async function convertToInteractive(key) {\n",
              "          const element = document.querySelector('#df-ee21289e-c7f1-4d0d-ace5-2b8540fe88b2');\n",
              "          const dataTable =\n",
              "            await google.colab.kernel.invokeFunction('convertToInteractive',\n",
              "                                                     [key], {});\n",
              "          if (!dataTable) return;\n",
              "\n",
              "          const docLinkHtml = 'Like what you see? Visit the ' +\n",
              "            '<a target=\"_blank\" href=https://colab.research.google.com/notebooks/data_table.ipynb>data table notebook</a>'\n",
              "            + ' to learn more about interactive tables.';\n",
              "          element.innerHTML = '';\n",
              "          dataTable['output_type'] = 'display_data';\n",
              "          await google.colab.output.renderOutput(dataTable, element);\n",
              "          const docLink = document.createElement('div');\n",
              "          docLink.innerHTML = docLinkHtml;\n",
              "          element.appendChild(docLink);\n",
              "        }\n",
              "      </script>\n",
              "    </div>\n",
              "  </div>\n",
              "  "
            ],
            "text/plain": [
              "  reported_gender  cough_detected\n",
              "0          female        0.734176\n",
              "1            male        0.772933\n",
              "2           other        0.610502"
            ]
          },
          "execution_count": 24,
          "metadata": {},
          "output_type": "execute_result"
        }
      ],
      "source": [
        "gender_cough = coughvid_df.groupby(['reported_gender'])['cough_detected'].mean().reset_index()\n",
        "gender_cough"
      ]
    },
    {
      "cell_type": "code",
      "execution_count": 25,
      "metadata": {
        "colab": {
          "base_uri": "https://localhost:8080/",
          "height": 357
        },
        "id": "qNrnBzD0b9RK",
        "outputId": "95000bf8-cc43-4554-ebcc-92f2bd537f63"
      },
      "outputs": [
        {
          "data": {
            "image/png": "[encoded data removed]",
            "text/plain": [
              "<Figure size 576x432 with 1 Axes>"
            ]
          },
          "metadata": {},
          "output_type": "display_data"
        }
      ],
      "source": [
        "plt.figure(figsize=(8,6))\n",
        "plt.pie(x = list(gender_cough['cough_detected']), labels = list(gender_cough['reported_gender']),autopct='%.0f%%')\n",
        "plt.show()"
      ]
    },
    {
      "cell_type": "code",
      "execution_count": 26,
      "metadata": {
        "id": "uvBf6njbWcsh"
      },
      "outputs": [],
      "source": [
        "coughvid_df.loc[(coughvid_df['age'] >= 0) & (coughvid_df['age'] < 18), 'ClassificationByAge'] = 'Children'\n",
        "coughvid_df.loc[(coughvid_df['age'] >= 18) & (coughvid_df['age'] < 60), 'ClassificationByAge'] = 'Adult'\n",
        "coughvid_df.loc[(coughvid_df['age'] >= 60), 'ClassificationByAge'] = 'Senior'"
      ]
    },
    {
      "cell_type": "code",
      "execution_count": 27,
      "metadata": {
        "colab": {
          "base_uri": "https://localhost:8080/"
        },
        "id": "3WIofxPKW0b_",
        "outputId": "0a4fcfb5-c0c1-4f51-8d85-3400a2ec8abd"
      },
      "outputs": [
        {
          "data": {
            "text/plain": [
              "Adult       8618\n",
              "Senior       858\n",
              "Children     668\n",
              "Name: ClassificationByAge, dtype: int64"
            ]
          },
          "execution_count": 27,
          "metadata": {},
          "output_type": "execute_result"
        }
      ],
      "source": [
        "coughvid_df['ClassificationByAge'].value_counts()"
      ]
    },
    {
      "cell_type": "code",
      "execution_count": 28,
      "metadata": {
        "colab": {
          "base_uri": "https://localhost:8080/",
          "height": 142
        },
        "id": "s4kJYHaBX7nj",
        "outputId": "25230fd6-e451-4249-ba40-c512a7159dbe"
      },
      "outputs": [
        {
          "data": {
            "text/html": [
              "\n",
              "  <div id=\"df-109e570c-4f3f-4290-930c-1058bd68a144\">\n",
              "    <div class=\"colab-df-container\">\n",
              "      <div>\n",
              "<style scoped>\n",
              "    .dataframe tbody tr th:only-of-type {\n",
              "        vertical-align: middle;\n",
              "    }\n",
              "\n",
              "    .dataframe tbody tr th {\n",
              "        vertical-align: top;\n",
              "    }\n",
              "\n",
              "    .dataframe thead th {\n",
              "        text-align: right;\n",
              "    }\n",
              "</style>\n",
              "<table border=\"1\" class=\"dataframe\">\n",
              "  <thead>\n",
              "    <tr style=\"text-align: right;\">\n",
              "      <th></th>\n",
              "      <th>ClassificationByAge</th>\n",
              "      <th>cough_detected</th>\n",
              "    </tr>\n",
              "  </thead>\n",
              "  <tbody>\n",
              "    <tr>\n",
              "      <th>0</th>\n",
              "      <td>Adult</td>\n",
              "      <td>0.773676</td>\n",
              "    </tr>\n",
              "    <tr>\n",
              "      <th>1</th>\n",
              "      <td>Children</td>\n",
              "      <td>0.715978</td>\n",
              "    </tr>\n",
              "    <tr>\n",
              "      <th>2</th>\n",
              "      <td>Senior</td>\n",
              "      <td>0.657789</td>\n",
              "    </tr>\n",
              "  </tbody>\n",
              "</table>\n",
              "</div>\n",
              "      <button class=\"colab-df-convert\" onclick=\"convertToInteractive('df-109e570c-4f3f-4290-930c-1058bd68a144')\"\n",
              "              title=\"Convert this dataframe to an interactive table.\"\n",
              "              style=\"display:none;\">\n",
              "        \n",
              "  <svg xmlns=\"http://www.w3.org/2000/svg\" height=\"24px\"viewBox=\"0 0 24 24\"\n",
              "       width=\"24px\">\n",
              "    <path d=\"M0 0h24v24H0V0z\" fill=\"none\"/>\n",
              "    <path d=\"M18.56 5.44l.94 2.06.94-2.06 2.06-.94-2.06-.94-.94-2.06-.94 2.06-2.06.94zm-11 1L8.5 8.5l.94-2.06 2.06-.94-2.06-.94L8.5 2.5l-.94 2.06-2.06.94zm10 10l.94 2.06.94-2.06 2.06-.94-2.06-.94-.94-2.06-.94 2.06-2.06.94z\"/><path d=\"M17.41 7.96l-1.37-1.37c-.4-.4-.92-.59-1.43-.59-.52 0-1.04.2-1.43.59L10.3 9.45l-7.72 7.72c-.78.78-.78 2.05 0 2.83L4 21.41c.39.39.9.59 1.41.59.51 0 1.02-.2 1.41-.59l7.78-7.78 2.81-2.81c.8-.78.8-2.07 0-2.86zM5.41 20L4 18.59l7.72-7.72 1.47 1.35L5.41 20z\"/>\n",
              "  </svg>\n",
              "      </button>\n",
              "      \n",
              "  <style>\n",
              "    .colab-df-container {\n",
              "      display:flex;\n",
              "      flex-wrap:wrap;\n",
              "      gap: 12px;\n",
              "    }\n",
              "\n",
              "    .colab-df-convert {\n",
              "      background-color: #E8F0FE;\n",
              "      border: none;\n",
              "      border-radius: 50%;\n",
              "      cursor: pointer;\n",
              "      display: none;\n",
              "      fill: #1967D2;\n",
              "      height: 32px;\n",
              "      padding: 0 0 0 0;\n",
              "      width: 32px;\n",
              "    }\n",
              "\n",
              "    .colab-df-convert:hover {\n",
              "      background-color: #E2EBFA;\n",
              "      box-shadow: 0px 1px 2px rgba(60, 64, 67, 0.3), 0px 1px 3px 1px rgba(60, 64, 67, 0.15);\n",
              "      fill: #174EA6;\n",
              "    }\n",
              "\n",
              "    [theme=dark] .colab-df-convert {\n",
              "      background-color: #3B4455;\n",
              "      fill: #D2E3FC;\n",
              "    }\n",
              "\n",
              "    [theme=dark] .colab-df-convert:hover {\n",
              "      background-color: #434B5C;\n",
              "      box-shadow: 0px 1px 3px 1px rgba(0, 0, 0, 0.15);\n",
              "      filter: drop-shadow(0px 1px 2px rgba(0, 0, 0, 0.3));\n",
              "      fill: #FFFFFF;\n",
              "    }\n",
              "  </style>\n",
              "\n",
              "      <script>\n",
              "        const buttonEl =\n",
              "          document.querySelector('#df-109e570c-4f3f-4290-930c-1058bd68a144 button.colab-df-convert');\n",
              "        buttonEl.style.display =\n",
              "          google.colab.kernel.accessAllowed ? 'block' : 'none';\n",
              "\n",
              "        async function convertToInteractive(key) {\n",
              "          const element = document.querySelector('#df-109e570c-4f3f-4290-930c-1058bd68a144');\n",
              "          const dataTable =\n",
              "            await google.colab.kernel.invokeFunction('convertToInteractive',\n",
              "                                                     [key], {});\n",
              "          if (!dataTable) return;\n",
              "\n",
              "          const docLinkHtml = 'Like what you see? Visit the ' +\n",
              "            '<a target=\"_blank\" href=https://colab.research.google.com/notebooks/data_table.ipynb>data table notebook</a>'\n",
              "            + ' to learn more about interactive tables.';\n",
              "          element.innerHTML = '';\n",
              "          dataTable['output_type'] = 'display_data';\n",
              "          await google.colab.output.renderOutput(dataTable, element);\n",
              "          const docLink = document.createElement('div');\n",
              "          docLink.innerHTML = docLinkHtml;\n",
              "          element.appendChild(docLink);\n",
              "        }\n",
              "      </script>\n",
              "    </div>\n",
              "  </div>\n",
              "  "
            ],
            "text/plain": [
              "  ClassificationByAge  cough_detected\n",
              "0               Adult        0.773676\n",
              "1            Children        0.715978\n",
              "2              Senior        0.657789"
            ]
          },
          "execution_count": 28,
          "metadata": {},
          "output_type": "execute_result"
        }
      ],
      "source": [
        "age_cough = coughvid_df.groupby(['ClassificationByAge'])['cough_detected'].mean().reset_index()\n",
        "age_cough"
      ]
    },
    {
      "cell_type": "code",
      "execution_count": 29,
      "metadata": {
        "colab": {
          "base_uri": "https://localhost:8080/",
          "height": 406
        },
        "id": "h98H_oExYNRg",
        "outputId": "8d85ffa2-003a-4d9f-da92-09a36b992d57"
      },
      "outputs": [
        {
          "data": {
            "text/plain": [
              "[Text(0, 0, '0.773676'), Text(0, 0, '0.715978'), Text(0, 0, '0.657789')]"
            ]
          },
          "execution_count": 29,
          "metadata": {},
          "output_type": "execute_result"
        },
        {
          "data": {
            "image/png": "[encoded data removed]",
            "text/plain": [
              "<Figure size 576x432 with 1 Axes>"
            ]
          },
          "metadata": {
            "needs_background": "light"
          },
          "output_type": "display_data"
        }
      ],
      "source": [
        "plt.figure(figsize=(8,6))\n",
        "fig3 = sns.barplot(data=age_cough, x = 'cough_detected', y='ClassificationByAge')\n",
        "fig3.bar_label(fig3.containers[0])"
      ]
    },
    {
      "cell_type": "code",
      "execution_count": 30,
      "metadata": {
        "id": "wixzuTshZT86"
      },
      "outputs": [],
      "source": [
        "import librosa\n",
        "import pandas as pd\n",
        "import numpy as np\n",
        "import matplotlib.pyplot as plt\n",
        "%matplotlib inline\n",
        "import os\n",
        "import csv\n",
        "\n",
        "from sklearn.model_selection import train_test_split\n",
        "from sklearn.preprocessing import LabelEncoder, StandardScaler\n",
        "#Keras\n",
        "import keras\n",
        "import warnings\n",
        "warnings.filterwarnings('ignore')"
      ]
    },
    {
      "cell_type": "code",
      "execution_count": null,
      "metadata": {
        "colab": {
          "base_uri": "https://localhost:8080/"
        },
        "id": "Yb56xvxcdW2p",
        "outputId": "db42b585-973e-4b01-f133-20520a5fe582"
      },
      "outputs": [
        {
          "name": "stdout",
          "output_type": "stream",
          "text": [
            "Looking in indexes: https://pypi.org/simple, https://us-python.pkg.dev/colab-wheels/public/simple/\n",
            "Collecting tensorflow==1.6.0\n",
            "  Downloading https://storage.googleapis.com/tensorflow/mac/cpu/tensorflow-1.6.0-py3-none-any.whl (43.2 MB)\n",
            "\u001b[2K     \u001b[90m━━━━━━━━━━━━━━━━━━━━━━━━━━━━━━━━━━━━━━━━\u001b[0m \u001b[32m43.2/43.2 MB\u001b[0m \u001b[31m11.2 MB/s\u001b[0m eta \u001b[36m0:00:00\u001b[0m\n",
            "\u001b[?25hCollecting wheel>=0.26\n",
            "  Downloading wheel-0.38.4-py3-none-any.whl (36 kB)\n",
            "Collecting grpcio>=1.8.6\n",
            "  Downloading grpcio-1.51.3-cp38-cp38-manylinux_2_17_x86_64.manylinux2014_x86_64.whl (4.8 MB)\n",
            "\u001b[2K     \u001b[90m━━━━━━━━━━━━━━━━━━━━━━━━━━━━━━━━━━━━━━━━\u001b[0m \u001b[32m4.8/4.8 MB\u001b[0m \u001b[31m41.5 MB/s\u001b[0m eta \u001b[36m0:00:00\u001b[0m\n",
            "\u001b[?25hCollecting gast>=0.2.0\n",
            "  Downloading gast-0.5.3-py3-none-any.whl (19 kB)\n",
            "Collecting termcolor>=1.1.0\n",
            "  Downloading termcolor-2.2.0-py3-none-any.whl (6.6 kB)\n",
            "Collecting protobuf>=3.4.0\n",
            "  Downloading protobuf-4.22.0-cp37-abi3-manylinux2014_x86_64.whl (302 kB)\n",
            "\u001b[2K     \u001b[90m━━━━━━━━━━━━━━━━━━━━━━━━━━━━━━━━━━━━━━\u001b[0m \u001b[32m302.4/302.4 KB\u001b[0m \u001b[31m29.7 MB/s\u001b[0m eta \u001b[36m0:00:00\u001b[0m\n",
            "\u001b[?25hCollecting astor>=0.6.0\n",
            "  Downloading astor-0.8.1-py2.py3-none-any.whl (27 kB)\n",
            "Collecting six>=1.10.0\n",
            "  Downloading six-1.16.0-py2.py3-none-any.whl (11 kB)\n",
            "Collecting tensorboard<1.7.0,>=1.6.0\n",
            "  Downloading tensorboard-1.6.0-py3-none-any.whl (3.0 MB)\n",
            "\u001b[2K     \u001b[90m━━━━━━━━━━━━━━━━━━━━━━━━━━━━━━━━━━━━━━━━\u001b[0m \u001b[32m3.0/3.0 MB\u001b[0m \u001b[31m27.4 MB/s\u001b[0m eta \u001b[36m0:00:00\u001b[0m\n",
            "\u001b[?25hCollecting numpy>=1.13.3\n",
            "  Downloading numpy-1.24.2-cp38-cp38-manylinux_2_17_x86_64.manylinux2014_x86_64.whl (17.3 MB)\n",
            "\u001b[2K     \u001b[90m━━━━━━━━━━━━━━━━━━━━━━━━━━━━━━━━━━━━━━━━\u001b[0m \u001b[32m17.3/17.3 MB\u001b[0m \u001b[31m45.3 MB/s\u001b[0m eta \u001b[36m0:00:00\u001b[0m\n",
            "\u001b[?25hCollecting absl-py>=0.1.6\n",
            "  Downloading absl_py-1.4.0-py3-none-any.whl (126 kB)\n",
            "\u001b[2K     \u001b[90m━━━━━━━━━━━━━━━━━━━━━━━━━━━━━━━━━━━━━━\u001b[0m \u001b[32m126.5/126.5 KB\u001b[0m \u001b[31m11.1 MB/s\u001b[0m eta \u001b[36m0:00:00\u001b[0m\n",
            "\u001b[?25hCollecting html5lib==0.9999999\n",
            "  Downloading html5lib-0.9999999.tar.gz (889 kB)\n",
            "\u001b[2K     \u001b[90m━━━━━━━━━━━━━━━━━━━━━━━━━━━━━━━━━━━━━━\u001b[0m \u001b[32m889.3/889.3 KB\u001b[0m \u001b[31m57.0 MB/s\u001b[0m eta \u001b[36m0:00:00\u001b[0m\n",
            "\u001b[?25h  Preparing metadata (setup.py) ... \u001b[?25l\u001b[?25hdone\n",
            "Collecting markdown>=2.6.8\n",
            "  Downloading Markdown-3.4.1-py3-none-any.whl (93 kB)\n",
            "\u001b[2K     \u001b[90m━━━━━━━━━━━━━━━━━━━━━━━━━━━━━━━━━━━━━━━━\u001b[0m \u001b[32m93.3/93.3 KB\u001b[0m \u001b[31m11.6 MB/s\u001b[0m eta \u001b[36m0:00:00\u001b[0m\n",
            "\u001b[?25hCollecting werkzeug>=0.11.10\n",
            "  Downloading Werkzeug-2.2.3-py3-none-any.whl (233 kB)\n",
            "\u001b[2K     \u001b[90m━━━━━━━━━━━━━━━━━━━━━━━━━━━━━━━━━━━━━━\u001b[0m \u001b[32m233.6/233.6 KB\u001b[0m \u001b[31m20.3 MB/s\u001b[0m eta \u001b[36m0:00:00\u001b[0m\n",
            "\u001b[?25hCollecting bleach==1.5.0\n",
            "  Downloading bleach-1.5.0-py2.py3-none-any.whl (17 kB)\n",
            "Collecting importlib-metadata>=4.4\n",
            "  Downloading importlib_metadata-6.0.0-py3-none-any.whl (21 kB)\n",
            "Collecting MarkupSafe>=2.1.1\n",
            "  Downloading MarkupSafe-2.1.2-cp38-cp38-manylinux_2_17_x86_64.manylinux2014_x86_64.whl (25 kB)\n",
            "Collecting zipp>=0.5\n",
            "  Downloading zipp-3.14.0-py3-none-any.whl (6.7 kB)\n",
            "Building wheels for collected packages: html5lib\n",
            "  Building wheel for html5lib (setup.py) ... \u001b[?25l\u001b[?25hdone\n",
            "  Created wheel for html5lib: filename=html5lib-0.9999999-py3-none-any.whl size=107233 sha256=bf8f523bc0eaa7fa8400c8619a65c224fe720d68ea5f4b442631812895070985\n",
            "  Stored in directory: /root/.cache/pip/wheels/dc/75/d2/3812ab8ba1fff9d3a0ed5bfc472174c9312055b1b80a94834b\n",
            "Successfully built html5lib\n",
            "Installing collected packages: zipp, wheel, termcolor, six, protobuf, numpy, MarkupSafe, grpcio, gast, astor, absl-py, werkzeug, importlib-metadata, html5lib, markdown, bleach, tensorboard, tensorflow\n",
            "\u001b[31mERROR: pip's dependency resolver does not currently take into account all the packages that are installed. This behaviour is the source of the following dependency conflicts.\n",
            "ipython 7.9.0 requires jedi>=0.10, which is not installed.\n",
            "tensorflow-metadata 1.12.0 requires protobuf<4,>=3.13, but you have protobuf 4.22.0 which is incompatible.\n",
            "scipy 1.7.3 requires numpy<1.23.0,>=1.16.5, but you have numpy 1.24.2 which is incompatible.\n",
            "numba 0.56.4 requires numpy<1.24,>=1.18, but you have numpy 1.24.2 which is incompatible.\n",
            "kapre 0.3.7 requires tensorflow>=2.0.0, but you have tensorflow 1.6.0 which is incompatible.\n",
            "flask 1.1.4 requires Werkzeug<2.0,>=0.15, but you have werkzeug 2.2.3 which is incompatible.\u001b[0m\u001b[31m\n",
            "\u001b[0mSuccessfully installed MarkupSafe-2.1.2 absl-py-1.4.0 astor-0.8.1 bleach-6.0.0 gast-0.5.3 grpcio-1.51.3 html5lib-1.0.1 importlib-metadata-6.0.0 markdown-3.4.1 numpy-1.24.2 protobuf-4.22.0 six-1.16.0 tensorboard-2.11.2 tensorflow-2.11.0 termcolor-2.2.0 werkzeug-2.2.3 wheel-0.38.4 zipp-3.14.0\n"
          ]
        }
      ],
      "source": [
        "!pip install --ignore-installed --upgrade https://storage.googleapis.com/tensorflow/mac/cpu/tensorflow-1.6.0-py3-none-any.whl"
      ]
    },
    {
      "cell_type": "code",
      "execution_count": 58,
      "metadata": {
        "colab": {
          "base_uri": "https://localhost:8080/"
        },
        "id": "gVgIfAGHd3CV",
        "outputId": "de2183aa-c98d-4a47-9a5e-4b25bf4538f5"
      },
      "outputs": [
        {
          "name": "stdout",
          "output_type": "stream",
          "text": [
            "['filename', 'chroma_stft', 'rmse', 'spectral_centroid', 'spectral_bandwidth', 'rolloff', 'zero_crossing_rate', 'label', 'mfcc1', 'mfcc2', 'mfcc3', 'mfcc4', 'mfcc5', 'mfcc6', 'mfcc7', 'mfcc8', 'mfcc9', 'mfcc10', 'mfcc11', 'mfcc12', 'mfcc13', 'mfcc14', 'mfcc15', 'mfcc16', 'mfcc17', 'mfcc18', 'mfcc19', 'mfcc20']\n"
          ]
        }
      ],
      "source": [
        "header = 'filename chroma_stft rmse spectral_centroid spectral_bandwidth rolloff zero_crossing_rate label'\n",
        "for i in range(1, 21):\n",
        "    header += f' mfcc{i}'\n",
        "#header += ' label'\n",
        "header = header.split()\n",
        "print(header)"
      ]
    },
    {
      "cell_type": "code",
      "execution_count": null,
      "metadata": {
        "id": "kAup-5AuXboh"
      },
      "outputs": [],
      "source": [
        "file = open('data.csv', 'w', newline='')\n",
        "featured_df = pd.read_csv('Capstone/virufy-cdf-coughvid/virufy-cdf-coughvid.csv')\n",
        "with file:\n",
        "    writer = csv.writer(file)\n",
        "    writer.writerow(header)\n",
        "filepath = \"Capstone/virufy-cdf-coughvid/data\"\n",
        "for index,file_name in enumerate(os.listdir(filepath)[:10000]):\n",
        "    filename = f\"Capstone/virufy-cdf-coughvid/data/{file_name}\"    \n",
        "    y, sr = librosa.load(filename, mono=True)\n",
        "    chroma_stft = librosa.feature.chroma_stft(y=y, sr=sr)\n",
        "    rmse = librosa.feature.rms(y=y)\n",
        "    spec_cent = librosa.feature.spectral_centroid(y=y, sr=sr)\n",
        "    spec_bw = librosa.feature.spectral_bandwidth(y=y, sr=sr)\n",
        "    rolloff = librosa.feature.spectral_rolloff(y=y, sr=sr)\n",
        "    zcr = librosa.feature.zero_crossing_rate(y)\n",
        "    mfcc = librosa.feature.mfcc(y=y, sr=sr)\n",
        "    to_append = f'{filename} {np.mean(chroma_stft)} {np.mean(rmse)} {np.mean(spec_cent)} {np.mean(spec_bw)} {np.mean(rolloff)} {np.mean(zcr)} {featured_df[\"pcr_test_result_inferred\"][index]}'\n",
        "    for e in mfcc:\n",
        "      to_append += f' {np.mean(e)}' \n",
        "    file = open('data.csv', 'a', newline='')\n",
        "    with file:\n",
        "      writer = csv.writer(file)\n",
        "      writer.writerow(to_append.split())\n"
      ]
    },
    {
      "cell_type": "code",
      "execution_count": 104,
      "metadata": {
        "colab": {
          "base_uri": "https://localhost:8080/",
          "height": 467
        },
        "id": "RJgiiZMaeT9A",
        "outputId": "e6a98aea-1aa9-4a8e-ddbd-5c33bd5392c0"
      },
      "outputs": [
        {
          "data": {
            "text/html": [
              "\n",
              "  <div id=\"df-4f65c694-42ac-4045-94c1-1509a41dd9c2\">\n",
              "    <div class=\"colab-df-container\">\n",
              "      <div>\n",
              "<style scoped>\n",
              "    .dataframe tbody tr th:only-of-type {\n",
              "        vertical-align: middle;\n",
              "    }\n",
              "\n",
              "    .dataframe tbody tr th {\n",
              "        vertical-align: top;\n",
              "    }\n",
              "\n",
              "    .dataframe thead th {\n",
              "        text-align: right;\n",
              "    }\n",
              "</style>\n",
              "<table border=\"1\" class=\"dataframe\">\n",
              "  <thead>\n",
              "    <tr style=\"text-align: right;\">\n",
              "      <th></th>\n",
              "      <th>filename</th>\n",
              "      <th>chroma_stft</th>\n",
              "      <th>rmse</th>\n",
              "      <th>spectral_centroid</th>\n",
              "      <th>spectral_bandwidth</th>\n",
              "      <th>rolloff</th>\n",
              "      <th>zero_crossing_rate</th>\n",
              "      <th>label</th>\n",
              "      <th>mfcc1</th>\n",
              "      <th>mfcc2</th>\n",
              "      <th>...</th>\n",
              "      <th>mfcc11</th>\n",
              "      <th>mfcc12</th>\n",
              "      <th>mfcc13</th>\n",
              "      <th>mfcc14</th>\n",
              "      <th>mfcc15</th>\n",
              "      <th>mfcc16</th>\n",
              "      <th>mfcc17</th>\n",
              "      <th>mfcc18</th>\n",
              "      <th>mfcc19</th>\n",
              "      <th>mfcc20</th>\n",
              "    </tr>\n",
              "  </thead>\n",
              "  <tbody>\n",
              "    <tr>\n",
              "      <th>0</th>\n",
              "      <td>Capstone/virufy-cdf-coughvid/data/96532d0b-e03...</td>\n",
              "      <td>0.246568</td>\n",
              "      <td>0.017675</td>\n",
              "      <td>750.296929</td>\n",
              "      <td>870.727132</td>\n",
              "      <td>1167.885280</td>\n",
              "      <td>0.056235</td>\n",
              "      <td>untested</td>\n",
              "      <td>-538.788574</td>\n",
              "      <td>79.788200</td>\n",
              "      <td>...</td>\n",
              "      <td>-11.927303</td>\n",
              "      <td>-8.343564</td>\n",
              "      <td>-3.942297</td>\n",
              "      <td>-4.267561</td>\n",
              "      <td>-1.465172</td>\n",
              "      <td>-2.462450</td>\n",
              "      <td>0.667762</td>\n",
              "      <td>2.863011</td>\n",
              "      <td>3.349436</td>\n",
              "      <td>2.755264</td>\n",
              "    </tr>\n",
              "    <tr>\n",
              "      <th>1</th>\n",
              "      <td>Capstone/virufy-cdf-coughvid/data/7985283f-987...</td>\n",
              "      <td>0.134691</td>\n",
              "      <td>0.001108</td>\n",
              "      <td>906.498696</td>\n",
              "      <td>619.463686</td>\n",
              "      <td>1511.273001</td>\n",
              "      <td>0.065169</td>\n",
              "      <td>untested</td>\n",
              "      <td>-738.053650</td>\n",
              "      <td>16.934408</td>\n",
              "      <td>...</td>\n",
              "      <td>-0.503222</td>\n",
              "      <td>-2.186954</td>\n",
              "      <td>0.668987</td>\n",
              "      <td>0.073172</td>\n",
              "      <td>-0.548880</td>\n",
              "      <td>0.093867</td>\n",
              "      <td>-0.739526</td>\n",
              "      <td>-0.740927</td>\n",
              "      <td>-0.958437</td>\n",
              "      <td>-1.109300</td>\n",
              "    </tr>\n",
              "    <tr>\n",
              "      <th>2</th>\n",
              "      <td>Capstone/virufy-cdf-coughvid/data/746aded4-a8b...</td>\n",
              "      <td>0.425642</td>\n",
              "      <td>0.027305</td>\n",
              "      <td>2305.653843</td>\n",
              "      <td>2288.142548</td>\n",
              "      <td>4927.119621</td>\n",
              "      <td>0.121683</td>\n",
              "      <td>negative</td>\n",
              "      <td>-483.577789</td>\n",
              "      <td>35.079132</td>\n",
              "      <td>...</td>\n",
              "      <td>-0.276858</td>\n",
              "      <td>-4.925006</td>\n",
              "      <td>0.181856</td>\n",
              "      <td>-1.381158</td>\n",
              "      <td>-1.196408</td>\n",
              "      <td>-4.674263</td>\n",
              "      <td>0.094589</td>\n",
              "      <td>-3.787151</td>\n",
              "      <td>-2.635709</td>\n",
              "      <td>-1.895576</td>\n",
              "    </tr>\n",
              "    <tr>\n",
              "      <th>3</th>\n",
              "      <td>Capstone/virufy-cdf-coughvid/data/c2d28bee-ee5...</td>\n",
              "      <td>0.429983</td>\n",
              "      <td>0.009373</td>\n",
              "      <td>2370.408117</td>\n",
              "      <td>2634.377257</td>\n",
              "      <td>5392.109819</td>\n",
              "      <td>0.117298</td>\n",
              "      <td>untested</td>\n",
              "      <td>-514.245789</td>\n",
              "      <td>68.695496</td>\n",
              "      <td>...</td>\n",
              "      <td>-5.206551</td>\n",
              "      <td>-4.555282</td>\n",
              "      <td>2.533046</td>\n",
              "      <td>3.792540</td>\n",
              "      <td>-2.761649</td>\n",
              "      <td>2.501842</td>\n",
              "      <td>-1.106822</td>\n",
              "      <td>1.811024</td>\n",
              "      <td>-2.274859</td>\n",
              "      <td>0.027196</td>\n",
              "    </tr>\n",
              "    <tr>\n",
              "      <th>4</th>\n",
              "      <td>Capstone/virufy-cdf-coughvid/data/54ca6049-40f...</td>\n",
              "      <td>0.366532</td>\n",
              "      <td>0.010191</td>\n",
              "      <td>2042.949540</td>\n",
              "      <td>1564.907570</td>\n",
              "      <td>3704.819264</td>\n",
              "      <td>0.092264</td>\n",
              "      <td>negative</td>\n",
              "      <td>-536.768738</td>\n",
              "      <td>50.518822</td>\n",
              "      <td>...</td>\n",
              "      <td>-1.034474</td>\n",
              "      <td>-12.892360</td>\n",
              "      <td>2.925161</td>\n",
              "      <td>1.065772</td>\n",
              "      <td>-4.572877</td>\n",
              "      <td>-8.343991</td>\n",
              "      <td>-3.224952</td>\n",
              "      <td>-2.764955</td>\n",
              "      <td>-4.941463</td>\n",
              "      <td>-6.563676</td>\n",
              "    </tr>\n",
              "  </tbody>\n",
              "</table>\n",
              "<p>5 rows × 28 columns</p>\n",
              "</div>\n",
              "      <button class=\"colab-df-convert\" onclick=\"convertToInteractive('df-4f65c694-42ac-4045-94c1-1509a41dd9c2')\"\n",
              "              title=\"Convert this dataframe to an interactive table.\"\n",
              "              style=\"display:none;\">\n",
              "        \n",
              "  <svg xmlns=\"http://www.w3.org/2000/svg\" height=\"24px\"viewBox=\"0 0 24 24\"\n",
              "       width=\"24px\">\n",
              "    <path d=\"M0 0h24v24H0V0z\" fill=\"none\"/>\n",
              "    <path d=\"M18.56 5.44l.94 2.06.94-2.06 2.06-.94-2.06-.94-.94-2.06-.94 2.06-2.06.94zm-11 1L8.5 8.5l.94-2.06 2.06-.94-2.06-.94L8.5 2.5l-.94 2.06-2.06.94zm10 10l.94 2.06.94-2.06 2.06-.94-2.06-.94-.94-2.06-.94 2.06-2.06.94z\"/><path d=\"M17.41 7.96l-1.37-1.37c-.4-.4-.92-.59-1.43-.59-.52 0-1.04.2-1.43.59L10.3 9.45l-7.72 7.72c-.78.78-.78 2.05 0 2.83L4 21.41c.39.39.9.59 1.41.59.51 0 1.02-.2 1.41-.59l7.78-7.78 2.81-2.81c.8-.78.8-2.07 0-2.86zM5.41 20L4 18.59l7.72-7.72 1.47 1.35L5.41 20z\"/>\n",
              "  </svg>\n",
              "      </button>\n",
              "      \n",
              "  <style>\n",
              "    .colab-df-container {\n",
              "      display:flex;\n",
              "      flex-wrap:wrap;\n",
              "      gap: 12px;\n",
              "    }\n",
              "\n",
              "    .colab-df-convert {\n",
              "      background-color: #E8F0FE;\n",
              "      border: none;\n",
              "      border-radius: 50%;\n",
              "      cursor: pointer;\n",
              "      display: none;\n",
              "      fill: #1967D2;\n",
              "      height: 32px;\n",
              "      padding: 0 0 0 0;\n",
              "      width: 32px;\n",
              "    }\n",
              "\n",
              "    .colab-df-convert:hover {\n",
              "      background-color: #E2EBFA;\n",
              "      box-shadow: 0px 1px 2px rgba(60, 64, 67, 0.3), 0px 1px 3px 1px rgba(60, 64, 67, 0.15);\n",
              "      fill: #174EA6;\n",
              "    }\n",
              "\n",
              "    [theme=dark] .colab-df-convert {\n",
              "      background-color: #3B4455;\n",
              "      fill: #D2E3FC;\n",
              "    }\n",
              "\n",
              "    [theme=dark] .colab-df-convert:hover {\n",
              "      background-color: #434B5C;\n",
              "      box-shadow: 0px 1px 3px 1px rgba(0, 0, 0, 0.15);\n",
              "      filter: drop-shadow(0px 1px 2px rgba(0, 0, 0, 0.3));\n",
              "      fill: #FFFFFF;\n",
              "    }\n",
              "  </style>\n",
              "\n",
              "      <script>\n",
              "        const buttonEl =\n",
              "          document.querySelector('#df-4f65c694-42ac-4045-94c1-1509a41dd9c2 button.colab-df-convert');\n",
              "        buttonEl.style.display =\n",
              "          google.colab.kernel.accessAllowed ? 'block' : 'none';\n",
              "\n",
              "        async function convertToInteractive(key) {\n",
              "          const element = document.querySelector('#df-4f65c694-42ac-4045-94c1-1509a41dd9c2');\n",
              "          const dataTable =\n",
              "            await google.colab.kernel.invokeFunction('convertToInteractive',\n",
              "                                                     [key], {});\n",
              "          if (!dataTable) return;\n",
              "\n",
              "          const docLinkHtml = 'Like what you see? Visit the ' +\n",
              "            '<a target=\"_blank\" href=https://colab.research.google.com/notebooks/data_table.ipynb>data table notebook</a>'\n",
              "            + ' to learn more about interactive tables.';\n",
              "          element.innerHTML = '';\n",
              "          dataTable['output_type'] = 'display_data';\n",
              "          await google.colab.output.renderOutput(dataTable, element);\n",
              "          const docLink = document.createElement('div');\n",
              "          docLink.innerHTML = docLinkHtml;\n",
              "          element.appendChild(docLink);\n",
              "        }\n",
              "      </script>\n",
              "    </div>\n",
              "  </div>\n",
              "  "
            ],
            "text/plain": [
              "                                            filename  chroma_stft      rmse  \\\n",
              "0  Capstone/virufy-cdf-coughvid/data/96532d0b-e03...     0.246568  0.017675   \n",
              "1  Capstone/virufy-cdf-coughvid/data/7985283f-987...     0.134691  0.001108   \n",
              "2  Capstone/virufy-cdf-coughvid/data/746aded4-a8b...     0.425642  0.027305   \n",
              "3  Capstone/virufy-cdf-coughvid/data/c2d28bee-ee5...     0.429983  0.009373   \n",
              "4  Capstone/virufy-cdf-coughvid/data/54ca6049-40f...     0.366532  0.010191   \n",
              "\n",
              "   spectral_centroid  spectral_bandwidth      rolloff  zero_crossing_rate  \\\n",
              "0         750.296929          870.727132  1167.885280            0.056235   \n",
              "1         906.498696          619.463686  1511.273001            0.065169   \n",
              "2        2305.653843         2288.142548  4927.119621            0.121683   \n",
              "3        2370.408117         2634.377257  5392.109819            0.117298   \n",
              "4        2042.949540         1564.907570  3704.819264            0.092264   \n",
              "\n",
              "      label       mfcc1      mfcc2  ...     mfcc11     mfcc12    mfcc13  \\\n",
              "0  untested -538.788574  79.788200  ... -11.927303  -8.343564 -3.942297   \n",
              "1  untested -738.053650  16.934408  ...  -0.503222  -2.186954  0.668987   \n",
              "2  negative -483.577789  35.079132  ...  -0.276858  -4.925006  0.181856   \n",
              "3  untested -514.245789  68.695496  ...  -5.206551  -4.555282  2.533046   \n",
              "4  negative -536.768738  50.518822  ...  -1.034474 -12.892360  2.925161   \n",
              "\n",
              "     mfcc14    mfcc15    mfcc16    mfcc17    mfcc18    mfcc19    mfcc20  \n",
              "0 -4.267561 -1.465172 -2.462450  0.667762  2.863011  3.349436  2.755264  \n",
              "1  0.073172 -0.548880  0.093867 -0.739526 -0.740927 -0.958437 -1.109300  \n",
              "2 -1.381158 -1.196408 -4.674263  0.094589 -3.787151 -2.635709 -1.895576  \n",
              "3  3.792540 -2.761649  2.501842 -1.106822  1.811024 -2.274859  0.027196  \n",
              "4  1.065772 -4.572877 -8.343991 -3.224952 -2.764955 -4.941463 -6.563676  \n",
              "\n",
              "[5 rows x 28 columns]"
            ]
          },
          "execution_count": 104,
          "metadata": {},
          "output_type": "execute_result"
        }
      ],
      "source": [
        "featured_df = pd.read_csv('/content/data.csv')\n",
        "featured_df.head()"
      ]
    },
    {
      "cell_type": "code",
      "execution_count": 105,
      "metadata": {
        "id": "4untnvvFzNT_"
      },
      "outputs": [],
      "source": [
        "featured_df = featured_df[featured_df['label']!='untested']"
      ]
    },
    {
      "cell_type": "code",
      "execution_count": 106,
      "metadata": {
        "colab": {
          "base_uri": "https://localhost:8080/",
          "height": 467
        },
        "id": "E3hTzbErGbY9",
        "outputId": "33e1b14d-4b9a-4409-e6ef-084418834037"
      },
      "outputs": [
        {
          "data": {
            "text/html": [
              "\n",
              "  <div id=\"df-1b2f56c8-aa70-4d25-9313-cce2cc0efc89\">\n",
              "    <div class=\"colab-df-container\">\n",
              "      <div>\n",
              "<style scoped>\n",
              "    .dataframe tbody tr th:only-of-type {\n",
              "        vertical-align: middle;\n",
              "    }\n",
              "\n",
              "    .dataframe tbody tr th {\n",
              "        vertical-align: top;\n",
              "    }\n",
              "\n",
              "    .dataframe thead th {\n",
              "        text-align: right;\n",
              "    }\n",
              "</style>\n",
              "<table border=\"1\" class=\"dataframe\">\n",
              "  <thead>\n",
              "    <tr style=\"text-align: right;\">\n",
              "      <th></th>\n",
              "      <th>filename</th>\n",
              "      <th>chroma_stft</th>\n",
              "      <th>rmse</th>\n",
              "      <th>spectral_centroid</th>\n",
              "      <th>spectral_bandwidth</th>\n",
              "      <th>rolloff</th>\n",
              "      <th>zero_crossing_rate</th>\n",
              "      <th>label</th>\n",
              "      <th>mfcc1</th>\n",
              "      <th>mfcc2</th>\n",
              "      <th>...</th>\n",
              "      <th>mfcc11</th>\n",
              "      <th>mfcc12</th>\n",
              "      <th>mfcc13</th>\n",
              "      <th>mfcc14</th>\n",
              "      <th>mfcc15</th>\n",
              "      <th>mfcc16</th>\n",
              "      <th>mfcc17</th>\n",
              "      <th>mfcc18</th>\n",
              "      <th>mfcc19</th>\n",
              "      <th>mfcc20</th>\n",
              "    </tr>\n",
              "  </thead>\n",
              "  <tbody>\n",
              "    <tr>\n",
              "      <th>2</th>\n",
              "      <td>Capstone/virufy-cdf-coughvid/data/746aded4-a8b...</td>\n",
              "      <td>0.425642</td>\n",
              "      <td>0.027305</td>\n",
              "      <td>2305.653843</td>\n",
              "      <td>2288.142548</td>\n",
              "      <td>4927.119621</td>\n",
              "      <td>0.121683</td>\n",
              "      <td>negative</td>\n",
              "      <td>-483.577789</td>\n",
              "      <td>35.079132</td>\n",
              "      <td>...</td>\n",
              "      <td>-0.276858</td>\n",
              "      <td>-4.925006</td>\n",
              "      <td>0.181856</td>\n",
              "      <td>-1.381158</td>\n",
              "      <td>-1.196408</td>\n",
              "      <td>-4.674263</td>\n",
              "      <td>0.094589</td>\n",
              "      <td>-3.787151</td>\n",
              "      <td>-2.635709</td>\n",
              "      <td>-1.895576</td>\n",
              "    </tr>\n",
              "    <tr>\n",
              "      <th>4</th>\n",
              "      <td>Capstone/virufy-cdf-coughvid/data/54ca6049-40f...</td>\n",
              "      <td>0.366532</td>\n",
              "      <td>0.010191</td>\n",
              "      <td>2042.949540</td>\n",
              "      <td>1564.907570</td>\n",
              "      <td>3704.819264</td>\n",
              "      <td>0.092264</td>\n",
              "      <td>negative</td>\n",
              "      <td>-536.768738</td>\n",
              "      <td>50.518822</td>\n",
              "      <td>...</td>\n",
              "      <td>-1.034474</td>\n",
              "      <td>-12.892360</td>\n",
              "      <td>2.925161</td>\n",
              "      <td>1.065772</td>\n",
              "      <td>-4.572877</td>\n",
              "      <td>-8.343991</td>\n",
              "      <td>-3.224952</td>\n",
              "      <td>-2.764955</td>\n",
              "      <td>-4.941463</td>\n",
              "      <td>-6.563676</td>\n",
              "    </tr>\n",
              "    <tr>\n",
              "      <th>5</th>\n",
              "      <td>Capstone/virufy-cdf-coughvid/data/20b15c2c-c3b...</td>\n",
              "      <td>0.457607</td>\n",
              "      <td>0.021929</td>\n",
              "      <td>2183.783684</td>\n",
              "      <td>2002.656158</td>\n",
              "      <td>4485.477590</td>\n",
              "      <td>0.128356</td>\n",
              "      <td>negative</td>\n",
              "      <td>-474.503021</td>\n",
              "      <td>56.867310</td>\n",
              "      <td>...</td>\n",
              "      <td>-4.673470</td>\n",
              "      <td>-4.548334</td>\n",
              "      <td>3.300208</td>\n",
              "      <td>-1.457334</td>\n",
              "      <td>-2.984739</td>\n",
              "      <td>-1.904081</td>\n",
              "      <td>-2.017654</td>\n",
              "      <td>-2.759113</td>\n",
              "      <td>-2.372814</td>\n",
              "      <td>-0.361269</td>\n",
              "    </tr>\n",
              "    <tr>\n",
              "      <th>6</th>\n",
              "      <td>Capstone/virufy-cdf-coughvid/data/0084c60b-ea8...</td>\n",
              "      <td>0.593544</td>\n",
              "      <td>0.039121</td>\n",
              "      <td>2215.148309</td>\n",
              "      <td>2080.573018</td>\n",
              "      <td>4526.687772</td>\n",
              "      <td>0.281258</td>\n",
              "      <td>positive</td>\n",
              "      <td>-418.722626</td>\n",
              "      <td>52.449600</td>\n",
              "      <td>...</td>\n",
              "      <td>3.056303</td>\n",
              "      <td>-3.695687</td>\n",
              "      <td>0.101675</td>\n",
              "      <td>1.146169</td>\n",
              "      <td>2.948937</td>\n",
              "      <td>-1.827530</td>\n",
              "      <td>-0.015979</td>\n",
              "      <td>-1.015139</td>\n",
              "      <td>-1.365296</td>\n",
              "      <td>-0.812002</td>\n",
              "    </tr>\n",
              "    <tr>\n",
              "      <th>12</th>\n",
              "      <td>Capstone/virufy-cdf-coughvid/data/ef081e3c-a74...</td>\n",
              "      <td>0.542502</td>\n",
              "      <td>0.001299</td>\n",
              "      <td>2446.359737</td>\n",
              "      <td>2226.648587</td>\n",
              "      <td>4989.328494</td>\n",
              "      <td>0.194831</td>\n",
              "      <td>negative</td>\n",
              "      <td>-709.428345</td>\n",
              "      <td>50.311527</td>\n",
              "      <td>...</td>\n",
              "      <td>-3.392588</td>\n",
              "      <td>-3.953157</td>\n",
              "      <td>-3.606393</td>\n",
              "      <td>-3.755292</td>\n",
              "      <td>-4.646735</td>\n",
              "      <td>-4.662539</td>\n",
              "      <td>-3.779958</td>\n",
              "      <td>-2.062461</td>\n",
              "      <td>-2.822699</td>\n",
              "      <td>-3.499199</td>\n",
              "    </tr>\n",
              "  </tbody>\n",
              "</table>\n",
              "<p>5 rows × 28 columns</p>\n",
              "</div>\n",
              "      <button class=\"colab-df-convert\" onclick=\"convertToInteractive('df-1b2f56c8-aa70-4d25-9313-cce2cc0efc89')\"\n",
              "              title=\"Convert this dataframe to an interactive table.\"\n",
              "              style=\"display:none;\">\n",
              "        \n",
              "  <svg xmlns=\"http://www.w3.org/2000/svg\" height=\"24px\"viewBox=\"0 0 24 24\"\n",
              "       width=\"24px\">\n",
              "    <path d=\"M0 0h24v24H0V0z\" fill=\"none\"/>\n",
              "    <path d=\"M18.56 5.44l.94 2.06.94-2.06 2.06-.94-2.06-.94-.94-2.06-.94 2.06-2.06.94zm-11 1L8.5 8.5l.94-2.06 2.06-.94-2.06-.94L8.5 2.5l-.94 2.06-2.06.94zm10 10l.94 2.06.94-2.06 2.06-.94-2.06-.94-.94-2.06-.94 2.06-2.06.94z\"/><path d=\"M17.41 7.96l-1.37-1.37c-.4-.4-.92-.59-1.43-.59-.52 0-1.04.2-1.43.59L10.3 9.45l-7.72 7.72c-.78.78-.78 2.05 0 2.83L4 21.41c.39.39.9.59 1.41.59.51 0 1.02-.2 1.41-.59l7.78-7.78 2.81-2.81c.8-.78.8-2.07 0-2.86zM5.41 20L4 18.59l7.72-7.72 1.47 1.35L5.41 20z\"/>\n",
              "  </svg>\n",
              "      </button>\n",
              "      \n",
              "  <style>\n",
              "    .colab-df-container {\n",
              "      display:flex;\n",
              "      flex-wrap:wrap;\n",
              "      gap: 12px;\n",
              "    }\n",
              "\n",
              "    .colab-df-convert {\n",
              "      background-color: #E8F0FE;\n",
              "      border: none;\n",
              "      border-radius: 50%;\n",
              "      cursor: pointer;\n",
              "      display: none;\n",
              "      fill: #1967D2;\n",
              "      height: 32px;\n",
              "      padding: 0 0 0 0;\n",
              "      width: 32px;\n",
              "    }\n",
              "\n",
              "    .colab-df-convert:hover {\n",
              "      background-color: #E2EBFA;\n",
              "      box-shadow: 0px 1px 2px rgba(60, 64, 67, 0.3), 0px 1px 3px 1px rgba(60, 64, 67, 0.15);\n",
              "      fill: #174EA6;\n",
              "    }\n",
              "\n",
              "    [theme=dark] .colab-df-convert {\n",
              "      background-color: #3B4455;\n",
              "      fill: #D2E3FC;\n",
              "    }\n",
              "\n",
              "    [theme=dark] .colab-df-convert:hover {\n",
              "      background-color: #434B5C;\n",
              "      box-shadow: 0px 1px 3px 1px rgba(0, 0, 0, 0.15);\n",
              "      filter: drop-shadow(0px 1px 2px rgba(0, 0, 0, 0.3));\n",
              "      fill: #FFFFFF;\n",
              "    }\n",
              "  </style>\n",
              "\n",
              "      <script>\n",
              "        const buttonEl =\n",
              "          document.querySelector('#df-1b2f56c8-aa70-4d25-9313-cce2cc0efc89 button.colab-df-convert');\n",
              "        buttonEl.style.display =\n",
              "          google.colab.kernel.accessAllowed ? 'block' : 'none';\n",
              "\n",
              "        async function convertToInteractive(key) {\n",
              "          const element = document.querySelector('#df-1b2f56c8-aa70-4d25-9313-cce2cc0efc89');\n",
              "          const dataTable =\n",
              "            await google.colab.kernel.invokeFunction('convertToInteractive',\n",
              "                                                     [key], {});\n",
              "          if (!dataTable) return;\n",
              "\n",
              "          const docLinkHtml = 'Like what you see? Visit the ' +\n",
              "            '<a target=\"_blank\" href=https://colab.research.google.com/notebooks/data_table.ipynb>data table notebook</a>'\n",
              "            + ' to learn more about interactive tables.';\n",
              "          element.innerHTML = '';\n",
              "          dataTable['output_type'] = 'display_data';\n",
              "          await google.colab.output.renderOutput(dataTable, element);\n",
              "          const docLink = document.createElement('div');\n",
              "          docLink.innerHTML = docLinkHtml;\n",
              "          element.appendChild(docLink);\n",
              "        }\n",
              "      </script>\n",
              "    </div>\n",
              "  </div>\n",
              "  "
            ],
            "text/plain": [
              "                                             filename  chroma_stft      rmse  \\\n",
              "2   Capstone/virufy-cdf-coughvid/data/746aded4-a8b...     0.425642  0.027305   \n",
              "4   Capstone/virufy-cdf-coughvid/data/54ca6049-40f...     0.366532  0.010191   \n",
              "5   Capstone/virufy-cdf-coughvid/data/20b15c2c-c3b...     0.457607  0.021929   \n",
              "6   Capstone/virufy-cdf-coughvid/data/0084c60b-ea8...     0.593544  0.039121   \n",
              "12  Capstone/virufy-cdf-coughvid/data/ef081e3c-a74...     0.542502  0.001299   \n",
              "\n",
              "    spectral_centroid  spectral_bandwidth      rolloff  zero_crossing_rate  \\\n",
              "2         2305.653843         2288.142548  4927.119621            0.121683   \n",
              "4         2042.949540         1564.907570  3704.819264            0.092264   \n",
              "5         2183.783684         2002.656158  4485.477590            0.128356   \n",
              "6         2215.148309         2080.573018  4526.687772            0.281258   \n",
              "12        2446.359737         2226.648587  4989.328494            0.194831   \n",
              "\n",
              "       label       mfcc1      mfcc2  ...    mfcc11     mfcc12    mfcc13  \\\n",
              "2   negative -483.577789  35.079132  ... -0.276858  -4.925006  0.181856   \n",
              "4   negative -536.768738  50.518822  ... -1.034474 -12.892360  2.925161   \n",
              "5   negative -474.503021  56.867310  ... -4.673470  -4.548334  3.300208   \n",
              "6   positive -418.722626  52.449600  ...  3.056303  -3.695687  0.101675   \n",
              "12  negative -709.428345  50.311527  ... -3.392588  -3.953157 -3.606393   \n",
              "\n",
              "      mfcc14    mfcc15    mfcc16    mfcc17    mfcc18    mfcc19    mfcc20  \n",
              "2  -1.381158 -1.196408 -4.674263  0.094589 -3.787151 -2.635709 -1.895576  \n",
              "4   1.065772 -4.572877 -8.343991 -3.224952 -2.764955 -4.941463 -6.563676  \n",
              "5  -1.457334 -2.984739 -1.904081 -2.017654 -2.759113 -2.372814 -0.361269  \n",
              "6   1.146169  2.948937 -1.827530 -0.015979 -1.015139 -1.365296 -0.812002  \n",
              "12 -3.755292 -4.646735 -4.662539 -3.779958 -2.062461 -2.822699 -3.499199  \n",
              "\n",
              "[5 rows x 28 columns]"
            ]
          },
          "execution_count": 106,
          "metadata": {},
          "output_type": "execute_result"
        }
      ],
      "source": [
        "featured_df.head()"
      ]
    },
    {
      "cell_type": "code",
      "execution_count": 107,
      "metadata": {
        "colab": {
          "base_uri": "https://localhost:8080/"
        },
        "id": "hLrYaB2RXUDD",
        "outputId": "21e17734-a80c-4f7c-d653-53a6b35ed36e"
      },
      "outputs": [
        {
          "name": "stdout",
          "output_type": "stream",
          "text": [
            "22\n"
          ]
        }
      ],
      "source": [
        "print(len(featured_df['label']))"
      ]
    },
    {
      "cell_type": "code",
      "execution_count": 108,
      "metadata": {
        "colab": {
          "base_uri": "https://localhost:8080/"
        },
        "id": "SNpYFrZdTK9X",
        "outputId": "3167c0ab-43cf-405c-e13c-46bcfbee3f1b"
      },
      "outputs": [
        {
          "name": "stdout",
          "output_type": "stream",
          "text": [
            "2     0\n",
            "4     0\n",
            "5     0\n",
            "6     1\n",
            "12    0\n",
            "14    0\n",
            "15    0\n",
            "19    0\n",
            "20    0\n",
            "21    0\n",
            "22    0\n",
            "24    0\n",
            "25    0\n",
            "26    0\n",
            "28    0\n",
            "35    0\n",
            "36    1\n",
            "37    0\n",
            "39    0\n",
            "45    0\n",
            "46    0\n",
            "48    0\n",
            "Name: label, dtype: int64\n"
          ]
        }
      ],
      "source": [
        "label_list = featured_df['label']\n",
        "encoder = LabelEncoder()\n",
        "featured_df['label'] = encoder.fit_transform(featured_df['label'])\n",
        "print(featured_df['label'])"
      ]
    },
    {
      "cell_type": "code",
      "execution_count": 109,
      "metadata": {
        "colab": {
          "base_uri": "https://localhost:8080/"
        },
        "id": "z2j_x_8_Tg5c",
        "outputId": "3b821110-b064-4a18-9264-6b8ea3b995cb"
      },
      "outputs": [
        {
          "name": "stdout",
          "output_type": "stream",
          "text": [
            "5     0\n",
            "45    0\n",
            "14    0\n",
            "19    0\n",
            "37    0\n",
            "21    0\n",
            "15    0\n",
            "28    0\n",
            "26    0\n",
            "48    0\n",
            "35    0\n",
            "36    1\n",
            "4     0\n",
            "6     1\n",
            "22    0\n",
            "46    0\n",
            "24    0\n",
            "Name: label, dtype: int64\n",
            "12    0\n",
            "2     0\n",
            "39    0\n",
            "25    0\n",
            "20    0\n",
            "Name: label, dtype: int64\n"
          ]
        }
      ],
      "source": [
        "scaler = StandardScaler()\n",
        "X = featured_df.drop(['label','filename'],axis=1)\n",
        "y = featured_df['label']\n",
        "X = scaler.fit_transform(X)\n",
        "X_train, X_test, y_train, y_test = train_test_split(X, y, test_size=0.2)\n",
        "print(y_train)\n",
        "print(y_test)\n"
      ]
    },
    {
      "cell_type": "code",
      "execution_count": 110,
      "metadata": {
        "id": "VHzEQyExT1UG"
      },
      "outputs": [],
      "source": [
        "from keras import models\n",
        "from keras import layers\n",
        "model = models.Sequential()\n",
        "model.add(layers.Dense(256, activation='relu', input_shape=(X_train.shape[1],)))\n",
        "model.add(layers.Dense(128, activation='relu'))\n",
        "model.add(layers.Dense(64, activation='relu'))\n",
        "model.add(layers.Dense(2, activation='softmax'))\n",
        "model.compile(optimizer='adam',loss='sparse_categorical_crossentropy',metrics=['accuracy'])"
      ]
    },
    {
      "cell_type": "code",
      "execution_count": 111,
      "metadata": {
        "colab": {
          "base_uri": "https://localhost:8080/"
        },
        "id": "l3P43TysT9mO",
        "outputId": "d6ffd801-d2ac-44c7-aece-92f27e75815c"
      },
      "outputs": [
        {
          "name": "stdout",
          "output_type": "stream",
          "text": [
            "Epoch 1/20\n",
            "1/1 [==============================] - 1s 838ms/step - loss: 0.6119 - accuracy: 0.8235\n",
            "Epoch 2/20\n",
            "1/1 [==============================] - 0s 12ms/step - loss: 0.4763 - accuracy: 0.8824\n",
            "Epoch 3/20\n",
            "1/1 [==============================] - 0s 11ms/step - loss: 0.3793 - accuracy: 0.8824\n",
            "Epoch 4/20\n",
            "1/1 [==============================] - 0s 13ms/step - loss: 0.3130 - accuracy: 0.8824\n",
            "Epoch 5/20\n",
            "1/1 [==============================] - 0s 8ms/step - loss: 0.2610 - accuracy: 0.8824\n",
            "Epoch 6/20\n",
            "1/1 [==============================] - 0s 9ms/step - loss: 0.2185 - accuracy: 0.8824\n",
            "Epoch 7/20\n",
            "1/1 [==============================] - 0s 9ms/step - loss: 0.1831 - accuracy: 0.8824\n",
            "Epoch 8/20\n",
            "1/1 [==============================] - 0s 9ms/step - loss: 0.1520 - accuracy: 0.8824\n",
            "Epoch 9/20\n",
            "1/1 [==============================] - 0s 8ms/step - loss: 0.1249 - accuracy: 1.0000\n",
            "Epoch 10/20\n",
            "1/1 [==============================] - 0s 12ms/step - loss: 0.1026 - accuracy: 1.0000\n",
            "Epoch 11/20\n",
            "1/1 [==============================] - 0s 10ms/step - loss: 0.0840 - accuracy: 1.0000\n",
            "Epoch 12/20\n",
            "1/1 [==============================] - 0s 11ms/step - loss: 0.0685 - accuracy: 1.0000\n",
            "Epoch 13/20\n",
            "1/1 [==============================] - 0s 10ms/step - loss: 0.0557 - accuracy: 1.0000\n",
            "Epoch 14/20\n",
            "1/1 [==============================] - 0s 11ms/step - loss: 0.0453 - accuracy: 1.0000\n",
            "Epoch 15/20\n",
            "1/1 [==============================] - 0s 9ms/step - loss: 0.0368 - accuracy: 1.0000\n",
            "Epoch 16/20\n",
            "1/1 [==============================] - 0s 10ms/step - loss: 0.0300 - accuracy: 1.0000\n",
            "Epoch 17/20\n",
            "1/1 [==============================] - 0s 9ms/step - loss: 0.0245 - accuracy: 1.0000\n",
            "Epoch 18/20\n",
            "1/1 [==============================] - 0s 11ms/step - loss: 0.0202 - accuracy: 1.0000\n",
            "Epoch 19/20\n",
            "1/1 [==============================] - 0s 8ms/step - loss: 0.0166 - accuracy: 1.0000\n",
            "Epoch 20/20\n",
            "1/1 [==============================] - 0s 9ms/step - loss: 0.0138 - accuracy: 1.0000\n"
          ]
        }
      ],
      "source": [
        "classifier = model.fit(X_train,y_train,epochs=20,batch_size=128)"
      ]
    },
    {
      "cell_type": "code",
      "execution_count": 112,
      "metadata": {
        "colab": {
          "base_uri": "https://localhost:8080/"
        },
        "id": "WUYI8fduUDGl",
        "outputId": "fe8b5ed6-e397-4545-f656-ac2d0123243e"
      },
      "outputs": [
        {
          "name": "stdout",
          "output_type": "stream",
          "text": [
            "1/1 [==============================] - 0s 116ms/step - loss: 0.0206 - accuracy: 1.0000\n",
            "test_acc:  1.0\n"
          ]
        }
      ],
      "source": [
        "test_loss, test_acc = model.evaluate(X_test,y_test)\n",
        "print('test_acc: ',test_acc)"
      ]
    },
    {
      "cell_type": "code",
      "execution_count": null,
      "metadata": {
        "id": "rzhdfuiIW3JZ"
      },
      "outputs": [],
      "source": []
    }
  ],
  "metadata": {
    "colab": {
      "provenance": []
    },
    "kernelspec": {
      "display_name": "base",
      "language": "python",
      "name": "python3"
    },
    "language_info": {
      "name": "python",
      "version": "3.9.15"
    },
    "vscode": {
      "interpreter": {
        "hash": "1bc12dedc65158073a5590bd76f4af3b2d8353fe1570c89622f9350dc85b6e67"
      }
    }
  },
  "nbformat": 4,
  "nbformat_minor": 0
}
